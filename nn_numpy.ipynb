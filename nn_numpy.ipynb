{
 "cells": [
  {
   "cell_type": "code",
   "execution_count": 1,
   "id": "085fac45",
   "metadata": {},
   "outputs": [],
   "source": [
    "import numpy as np \n",
    "import math"
   ]
  },
  {
   "cell_type": "code",
   "execution_count": 5,
   "id": "1e3ffcb9",
   "metadata": {},
   "outputs": [],
   "source": [
    "x = np.linspace(-math.pi,math.pi,2000)\n",
    "y = np.sin(x)"
   ]
  },
  {
   "cell_type": "code",
   "execution_count": 7,
   "id": "b113ca8e",
   "metadata": {},
   "outputs": [],
   "source": [
    "a = np.random.randn()\n",
    "b = np.random.randn()\n",
    "c = np.random.randn()\n",
    "d = np.random.randn()"
   ]
  },
  {
   "cell_type": "code",
   "execution_count": 16,
   "id": "800e4898",
   "metadata": {},
   "outputs": [
    {
     "name": "stdout",
     "output_type": "stream",
     "text": [
      "99 111821.55852217058\n",
      "199 111821.55852217058\n",
      "299 111821.55852217058\n",
      "399 111821.55852217058\n",
      "499 111821.55852217058\n",
      "599 111821.55852217058\n",
      "699 111821.55852217058\n",
      "799 111821.55852217058\n",
      "899 111821.55852217058\n",
      "999 111821.55852217058\n",
      "1099 111821.55852217058\n",
      "1199 111821.55852217058\n",
      "1299 111821.55852217058\n",
      "1399 111821.55852217058\n",
      "1499 111821.55852217058\n",
      "1599 111821.55852217058\n",
      "1699 111821.55852217058\n",
      "1799 111821.55852217058\n",
      "1899 111821.55852217058\n",
      "1999 111821.55852217058\n"
     ]
    }
   ],
   "source": [
    "learning_rate = 1e-6\n",
    "for t in range(2000):\n",
    "    # y = a + b x + c x^2 + d x^3\n",
    "    y_pred = a + b * x + c * x**2 + d * x**3\n",
    "    # compute and print loss\n",
    "    loss = np.square(y_pred - y).sum()\n",
    "    if t % 100 == 99:\n",
    "        print(t, loss)"
   ]
  },
  {
   "cell_type": "code",
   "execution_count": 19,
   "id": "c52f1cda",
   "metadata": {},
   "outputs": [],
   "source": [
    "#backprop to compute gradiants of a, b, c, d, with respect to loss\n",
    "grad_y_pred = 2.0 * (y_pred - y)\n",
    "grad_a = grad_y_pred.sum()\n",
    "grad_b = (grad_y_pred * x).sum()\n",
    "grad_c = (grad_y_pred * x ** 2).sum()\n",
    "grad_d = (grad_y_pred * x ** 3).sum()"
   ]
  },
  {
   "cell_type": "code",
   "execution_count": 21,
   "id": "74d2ed56",
   "metadata": {},
   "outputs": [
    {
     "name": "stdout",
     "output_type": "stream",
     "text": [
      "res: y = 1.0166294579178703 + -2.10913154281047 x + -0.2392720585521827 x^2 + 0.2531762242766429 x^3\n"
     ]
    }
   ],
   "source": [
    "a -= learning_rate * grad_a\n",
    "b -= learning_rate * grad_b\n",
    "c -= learning_rate * grad_c\n",
    "d -= learning_rate * grad_d\n",
    "print(f\"res: y = {a} + {b} x + {c} x^2 + {d} x^3\")"
   ]
  }
 ],
 "metadata": {
  "kernelspec": {
   "display_name": "Python 3 (ipykernel)",
   "language": "python",
   "name": "python3"
  },
  "language_info": {
   "codemirror_mode": {
    "name": "ipython",
    "version": 3
   },
   "file_extension": ".py",
   "mimetype": "text/x-python",
   "name": "python",
   "nbconvert_exporter": "python",
   "pygments_lexer": "ipython3",
   "version": "3.9.7"
  }
 },
 "nbformat": 4,
 "nbformat_minor": 5
}
