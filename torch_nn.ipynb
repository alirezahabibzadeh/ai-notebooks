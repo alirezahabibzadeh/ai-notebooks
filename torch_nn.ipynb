{
 "cells": [
  {
   "cell_type": "code",
   "execution_count": 2,
   "id": "5729b70b",
   "metadata": {},
   "outputs": [],
   "source": [
    "import torch \n",
    "import math\n",
    "dtype = torch.float"
   ]
  },
  {
   "cell_type": "code",
   "execution_count": 5,
   "id": "2a405e15",
   "metadata": {},
   "outputs": [],
   "source": [
    "x = torch.linspace(-math.pi, math.pi,2000,device=device,dtype=dtype)\n",
    "y = torch.sin(x)"
   ]
  },
  {
   "cell_type": "code",
   "execution_count": 11,
   "id": "df623907",
   "metadata": {},
   "outputs": [],
   "source": [
    "a = torch.randn((), device=device, dtype=dtype)\n",
    "b = torch.randn((), device=device, dtype=dtype)\n",
    "c = torch.randn((), device=device, dtype=dtype)\n",
    "d = torch.randn((), device=device, dtype=dtype)"
   ]
  },
  {
   "cell_type": "code",
   "execution_count": 17,
   "id": "f11ac245",
   "metadata": {},
   "outputs": [
    {
     "name": "stdout",
     "output_type": "stream",
     "text": [
      "99 30039.39453125\n",
      "199 30039.39453125\n",
      "299 30039.39453125\n",
      "399 30039.39453125\n",
      "499 30039.39453125\n",
      "599 30039.39453125\n",
      "699 30039.39453125\n",
      "799 30039.39453125\n",
      "899 30039.39453125\n",
      "999 30039.39453125\n",
      "1099 30039.39453125\n",
      "1199 30039.39453125\n",
      "1299 30039.39453125\n",
      "1399 30039.39453125\n",
      "1499 30039.39453125\n",
      "1599 30039.39453125\n",
      "1699 30039.39453125\n",
      "1799 30039.39453125\n",
      "1899 30039.39453125\n",
      "1999 30039.39453125\n"
     ]
    }
   ],
   "source": [
    "learning_rate = 1e-6\n",
    "for t in range(2000):\n",
    "    # y = a + b x + c x^2 + d x^3\n",
    "    y_pred = a + b * x + c * x**2 + d * x**3\n",
    "    # compute and print the loss\n",
    "    loss = (y_pred - y).pow(2).sum().item()\n",
    "    if t % 100 == 99:\n",
    "        print(t,loss)"
   ]
  },
  {
   "cell_type": "code",
   "execution_count": 18,
   "id": "1039da8d",
   "metadata": {},
   "outputs": [],
   "source": [
    "# backdrop to compute gradients of a, b, c, d with respect to loss\n",
    "grad_y_pred = 2.0 * (y_pred - y)\n",
    "grad_a = grad_y_pred.sum()\n",
    "grad_b = (grad_y_pred * x).sum()\n",
    "grad_c = (grad_y_pred * x ** 2).sum()\n",
    "grad_d = (grad_y_pred * x ** 3).sum()"
   ]
  },
  {
   "cell_type": "code",
   "execution_count": 20,
   "id": "483c444e",
   "metadata": {},
   "outputs": [
    {
     "name": "stdout",
     "output_type": "stream",
     "text": [
      "res : y = -1.3517159223556519 + -1.4623464345932007 x + -0.08030632138252258 x^2 + 0.2677091062068939 x^3\n"
     ]
    }
   ],
   "source": [
    "a -= learning_rate * grad_a \n",
    "b -= learning_rate * grad_b \n",
    "c -= learning_rate * grad_c \n",
    "d -= learning_rate * grad_d \n",
    "print(f\"res : y = {a.item()} + {b.item()} x + {c.item()} x^2 + {d.item()} x^3\")"
   ]
  }
 ],
 "metadata": {
  "kernelspec": {
   "display_name": "Python 3 (ipykernel)",
   "language": "python",
   "name": "python3"
  },
  "language_info": {
   "codemirror_mode": {
    "name": "ipython",
    "version": 3
   },
   "file_extension": ".py",
   "mimetype": "text/x-python",
   "name": "python",
   "nbconvert_exporter": "python",
   "pygments_lexer": "ipython3",
   "version": "3.9.7"
  }
 },
 "nbformat": 4,
 "nbformat_minor": 5
}
