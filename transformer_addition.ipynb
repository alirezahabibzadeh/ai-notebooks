{
 "cells": [
  {
   "cell_type": "code",
   "execution_count": 28,
   "id": "d8c0fa8d",
   "metadata": {},
   "outputs": [],
   "source": [
    "import numpy as np\n",
    "import tensorflow as tf\n",
    "from tensorflow import keras\n",
    "from tensorflow.keras import layers\n",
    "import random"
   ]
  },
  {
   "cell_type": "code",
   "execution_count": 29,
   "id": "a22b3ce0",
   "metadata": {},
   "outputs": [],
   "source": [
    "# https://github.com/karpathy/minGPT/blob/master/play_math.ipynb\n",
    "\n",
    "def make_dataset():\n",
    "  ret = []\n",
    "  for i in range(100):\n",
    "    for j in range(100):\n",
    "      s = i+j\n",
    "      ret.append([i//10, i%10, j//10, j%10, s//100, (s//10)%10, s%10])\n",
    "  return ret\n",
    "ds = make_dataset()\n",
    "random.shuffle(ds)\n",
    "ds = np.array(ds)\n",
    "ds_X = ds[:, 0:6]\n",
    "ds_Y = np.copy(ds[:, 1:])\n",
    "ds_X_train, ds_X_test = ds_X[0:8000], ds_X[8000:]\n",
    "ds_Y_train, ds_Y_test = ds_Y[0:8000], ds_Y[8000:]"
   ]
  },
  {
   "cell_type": "code",
   "execution_count": 30,
   "id": "c40d5403",
   "metadata": {},
   "outputs": [],
   "source": [
    "# https://keras.io/examples/nlp/text_classification_with_transformer/\n",
    "\n",
    "class MultiHeadSelfAttention(layers.Layer):\n",
    "  def __init__(self, embed_dim, num_heads=8):\n",
    "    super(MultiHeadSelfAttention, self).__init__()\n",
    "    self.embed_dim = embed_dim\n",
    "    self.num_heads = num_heads\n",
    "    assert embed_dim % num_heads == 0\n",
    "    self.projection_dim = embed_dim // num_heads\n",
    "    \n",
    "    # 4 * embed_dim**2 weights\n",
    "    self.query_dense = layers.Dense(embed_dim)\n",
    "    self.key_dense = layers.Dense(embed_dim)\n",
    "    self.value_dense = layers.Dense(embed_dim)\n",
    "    self.combine_heads = layers.Dense(embed_dim)\n",
    "    \n",
    "  def separate_heads(self, x, batch_size):\n",
    "    x = tf.reshape(x, (batch_size, -1, self.num_heads, self.projection_dim))\n",
    "    return tf.transpose(x, perm=[0, 2, 1, 3])\n",
    "  \n",
    "  def call(self, inputs):\n",
    "    batch_size = tf.shape(inputs)[0]\n",
    "    \n",
    "    # get QKV\n",
    "    query = self.separate_heads(self.query_dense(inputs), batch_size)\n",
    "    key = self.separate_heads(self.key_dense(inputs), batch_size)\n",
    "    value = self.separate_heads(self.value_dense(inputs), batch_size)\n",
    "    \n",
    "    # self attention\n",
    "    score = tf.matmul(query, key, transpose_b=True)\n",
    "    dim_key = tf.cast(tf.shape(key)[-1], tf.float32)\n",
    "    scaled_score = score / tf.math.sqrt(dim_key)\n",
    "    weights = tf.nn.softmax(scaled_score, axis=-1)\n",
    "    attention = tf.matmul(weights, value)\n",
    "    \n",
    "    # output\n",
    "    attention = tf.transpose(attention, perm=[0, 2, 1, 3])\n",
    "    concat_attention = tf.reshape(attention, (batch_size, -1, self.embed_dim))\n",
    "    return self.combine_heads(concat_attention)\n",
    "\n",
    "class TransformerBlock(layers.Layer):\n",
    "  def __init__(self, embed_dim, num_heads, ff_dim, rate=0.1):\n",
    "    super(TransformerBlock, self).__init__()\n",
    "    self.att = MultiHeadSelfAttention(embed_dim, num_heads)\n",
    "    self.ffn = keras.Sequential(\n",
    "      [layers.Dense(ff_dim, activation=\"relu\"),\n",
    "       layers.Dense(embed_dim),]\n",
    "    )\n",
    "    self.layernorm1 = layers.LayerNormalization(epsilon=1e-6)\n",
    "    self.layernorm2 = layers.LayerNormalization(epsilon=1e-6)\n",
    "    self.dropout1 = layers.Dropout(rate)\n",
    "    self.dropout2 = layers.Dropout(rate)\n",
    "\n",
    "  def call(self, inputs, training):\n",
    "    attn_output = self.att(inputs)\n",
    "    attn_output = self.dropout1(attn_output, training=training)\n",
    "    out1 = self.layernorm1(inputs + attn_output)\n",
    "    ffn_output = self.ffn(out1)\n",
    "    ffn_output = self.dropout2(ffn_output, training=training)\n",
    "    return self.layernorm2(out1 + ffn_output)\n",
    "  \n",
    "class TokenAndPositionEmbedding(layers.Layer):\n",
    "  def __init__(self, maxlen, vocab_size, embed_dim):\n",
    "    super(TokenAndPositionEmbedding, self).__init__()\n",
    "    self.token_emb = layers.Embedding(input_dim=vocab_size, output_dim=embed_dim)\n",
    "    self.pos_emb = layers.Embedding(input_dim=maxlen, output_dim=embed_dim)\n",
    "\n",
    "  def call(self, x):\n",
    "    positions = tf.range(start=0, limit=tf.shape(x)[-1], delta=1)\n",
    "    positions = self.pos_emb(positions)\n",
    "    x = self.token_emb(x)\n",
    "    \n",
    "    return x + positions"
   ]
  },
  {
   "cell_type": "code",
   "execution_count": 31,
   "id": "fe0c5b06",
   "metadata": {},
   "outputs": [],
   "source": [
    "maxlen = 10\n",
    "x = in1 = layers.Input(shape=(6,))\n",
    "x = TokenAndPositionEmbedding(maxlen, 10, 128)(x)\n",
    "x = TransformerBlock(128, 4, 32)(x)\n",
    "x = TransformerBlock(128, 4, 32)(x)\n",
    "x = layers.Dense(10)(x)\n",
    "x = layers.Softmax()(x)\n",
    "m = keras.Model(in1, x)\n",
    "m.compile('adam', 'sparse_categorical_crossentropy')"
   ]
  },
  {
   "cell_type": "code",
   "execution_count": 32,
   "id": "a85f4144",
   "metadata": {},
   "outputs": [
    {
     "name": "stdout",
     "output_type": "stream",
     "text": [
      "Model: \"model_1\"\n",
      "_________________________________________________________________\n",
      " Layer (type)                Output Shape              Param #   \n",
      "=================================================================\n",
      " input_6 (InputLayer)        [(None, 6)]               0         \n",
      "                                                                 \n",
      " token_and_position_embeddin  (None, 6, 128)           2560      \n",
      " g_5 (TokenAndPositionEmbedd                                     \n",
      " ing)                                                            \n",
      "                                                                 \n",
      " transformer_block_2 (Transf  (None, 6, 128)           74912     \n",
      " ormerBlock)                                                     \n",
      "                                                                 \n",
      " transformer_block_3 (Transf  (None, 6, 128)           74912     \n",
      " ormerBlock)                                                     \n",
      "                                                                 \n",
      " dense_37 (Dense)            (None, 6, 10)             1290      \n",
      "                                                                 \n",
      " softmax_1 (Softmax)         (None, 6, 10)             0         \n",
      "                                                                 \n",
      "=================================================================\n",
      "Total params: 153,674\n",
      "Trainable params: 153,674\n",
      "Non-trainable params: 0\n",
      "_________________________________________________________________\n"
     ]
    }
   ],
   "source": [
    "m.summary()"
   ]
  },
  {
   "cell_type": "code",
   "execution_count": 33,
   "id": "b0a5d4ce",
   "metadata": {},
   "outputs": [
    {
     "name": "stdout",
     "output_type": "stream",
     "text": [
      "Epoch 1/10\n",
      "250/250 [==============================] - 10s 15ms/step - loss: 0.5257\n",
      "Epoch 2/10\n",
      "250/250 [==============================] - 4s 14ms/step - loss: 0.0966\n",
      "Epoch 3/10\n",
      "250/250 [==============================] - 4s 16ms/step - loss: 0.0181\n",
      "Epoch 4/10\n",
      "250/250 [==============================] - 4s 16ms/step - loss: 0.0054\n",
      "Epoch 5/10\n",
      "250/250 [==============================] - 4s 18ms/step - loss: 0.0101\n",
      "Epoch 6/10\n",
      "250/250 [==============================] - 4s 18ms/step - loss: 4.5042e-04\n",
      "Epoch 7/10\n",
      "250/250 [==============================] - 5s 18ms/step - loss: 2.8364e-04\n",
      "Epoch 8/10\n",
      "250/250 [==============================] - 4s 18ms/step - loss: 1.9925e-04\n",
      "Epoch 9/10\n",
      "250/250 [==============================] - 4s 17ms/step - loss: 0.0107\n",
      "Epoch 10/10\n",
      "250/250 [==============================] - 5s 20ms/step - loss: 0.0089\n"
     ]
    },
    {
     "data": {
      "text/plain": [
       "<keras.callbacks.History at 0x22284954a30>"
      ]
     },
     "execution_count": 33,
     "metadata": {},
     "output_type": "execute_result"
    }
   ],
   "source": [
    "m.fit(ds_X_train, ds_Y_train, epochs=10, verbose=1)"
   ]
  },
  {
   "cell_type": "code",
   "execution_count": 35,
   "id": "a2ca2605",
   "metadata": {},
   "outputs": [
    {
     "data": {
      "text/plain": [
       "(2000, (2000,))"
      ]
     },
     "execution_count": 35,
     "metadata": {},
     "output_type": "execute_result"
    }
   ],
   "source": [
    "aa = m.predict(ds_X_test)\n",
    "correct = ds_Y_test[:, -1] == np.argmax(aa, axis=2)[:, -1]\n",
    "sum(correct), correct.shape"
   ]
  }
 ],
 "metadata": {
  "kernelspec": {
   "display_name": "Python 3 (ipykernel)",
   "language": "python",
   "name": "python3"
  },
  "language_info": {
   "codemirror_mode": {
    "name": "ipython",
    "version": 3
   },
   "file_extension": ".py",
   "mimetype": "text/x-python",
   "name": "python",
   "nbconvert_exporter": "python",
   "pygments_lexer": "ipython3",
   "version": "3.9.7"
  }
 },
 "nbformat": 4,
 "nbformat_minor": 5
}
